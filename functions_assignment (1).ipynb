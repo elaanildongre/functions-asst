{
  "nbformat": 4,
  "nbformat_minor": 0,
  "metadata": {
    "colab": {
      "provenance": []
    },
    "kernelspec": {
      "name": "python3",
      "display_name": "Python 3"
    },
    "language_info": {
      "name": "python"
    }
  },
  "cells": [
    {
      "cell_type": "markdown",
      "source": [
        "1. What is the difference between a function and a method in Python?\n",
        "\n",
        "   A function is a structured, reusable code block utilized for carrying out a specific task.\n",
        "\n"
      ],
      "metadata": {
        "id": "b4jWyE-MHzNU"
      }
    },
    {
      "cell_type": "code",
      "source": [
        "def greeting(name):\n",
        "  print('welcome', name)"
      ],
      "metadata": {
        "id": "g-JbkMl3ITWw"
      },
      "execution_count": null,
      "outputs": []
    },
    {
      "cell_type": "code",
      "source": [
        "greeting('roopa')"
      ],
      "metadata": {
        "colab": {
          "base_uri": "https://localhost:8080/"
        },
        "id": "xz83hwIvJR-i",
        "outputId": "5ed7c46c-6c68-4f69-f7fc-4bc5348a4580"
      },
      "execution_count": null,
      "outputs": [
        {
          "output_type": "stream",
          "name": "stdout",
          "text": [
            "welcome roopa\n"
          ]
        }
      ]
    },
    {
      "cell_type": "markdown",
      "source": [
        "     method is a function assosciatedd with an object.\n",
        "\n",
        "     "
      ],
      "metadata": {
        "id": "GlUhec_7HzJ0"
      }
    },
    {
      "cell_type": "code",
      "source": [
        "subject = 'science'\n",
        "print(subject.upper())"
      ],
      "metadata": {
        "colab": {
          "base_uri": "https://localhost:8080/"
        },
        "id": "1B93gGffJsxr",
        "outputId": "fcbd0701-b5c7-4d98-d300-e0c7b7ead626"
      },
      "execution_count": null,
      "outputs": [
        {
          "output_type": "stream",
          "name": "stdout",
          "text": [
            "SCIENCE\n"
          ]
        }
      ]
    },
    {
      "cell_type": "markdown",
      "source": [
        "2. Explain the concept of function arguments and parameters in Python.\n",
        "\n",
        "   Parameters are the variable listd in the function definition.\n",
        "   \n",
        "   Arguments are the values passed to the function when calling the function."
      ],
      "metadata": {
        "id": "4wyY7Hx2HzHX"
      }
    },
    {
      "cell_type": "code",
      "source": [
        "def multiplication(a, b):\n",
        "  return(a * b)\n",
        "  # a & b are the parameters"
      ],
      "metadata": {
        "id": "qnx21_B6K1ru"
      },
      "execution_count": null,
      "outputs": []
    },
    {
      "cell_type": "code",
      "source": [
        "print(multiplication(4, 7)) # 4 & 7 are the arguments"
      ],
      "metadata": {
        "colab": {
          "base_uri": "https://localhost:8080/"
        },
        "id": "RxAtfKsyLe6X",
        "outputId": "4ff50d68-6288-4164-b3a8-b60ebb2f0688"
      },
      "execution_count": null,
      "outputs": [
        {
          "output_type": "stream",
          "name": "stdout",
          "text": [
            "28\n"
          ]
        }
      ]
    },
    {
      "cell_type": "markdown",
      "source": [
        "3. What are the different ways to define and call a function in Python?\n",
        "\n",
        "   we can call a function by using \"def\", \"lambda\" or by name fallowed by paranthesis."
      ],
      "metadata": {
        "id": "CXiBSHUrHzE1"
      }
    },
    {
      "cell_type": "code",
      "source": [
        "def sum(a, c):\n",
        "  return(a + c)\n"
      ],
      "metadata": {
        "id": "zs6nCd7lMvBH"
      },
      "execution_count": null,
      "outputs": []
    },
    {
      "cell_type": "code",
      "source": [
        "sum(4, 79)"
      ],
      "metadata": {
        "colab": {
          "base_uri": "https://localhost:8080/"
        },
        "id": "vHWXxaiLNDy_",
        "outputId": "4be6734c-50e9-49c7-c161-342f4f995425"
      },
      "execution_count": null,
      "outputs": [
        {
          "output_type": "execute_result",
          "data": {
            "text/plain": [
              "83"
            ]
          },
          "metadata": {},
          "execution_count": 25
        }
      ]
    },
    {
      "cell_type": "code",
      "source": [
        "x = lambda a, b: a+b"
      ],
      "metadata": {
        "id": "LLAWzTB1NG90"
      },
      "execution_count": null,
      "outputs": []
    },
    {
      "cell_type": "code",
      "source": [
        "x(4, 79)"
      ],
      "metadata": {
        "colab": {
          "base_uri": "https://localhost:8080/"
        },
        "id": "MBzEATgAN0PF",
        "outputId": "32b06d58-7315-4293-b2a8-62d5c12096df"
      },
      "execution_count": null,
      "outputs": [
        {
          "output_type": "execute_result",
          "data": {
            "text/plain": [
              "83"
            ]
          },
          "metadata": {},
          "execution_count": 28
        }
      ]
    },
    {
      "cell_type": "markdown",
      "source": [
        "4. What is the purpose of the `return` statement in a Python function?\n",
        "\n",
        "   Return Statement determines the value that the function will return and ends the function execution.\n",
        "   "
      ],
      "metadata": {
        "id": "ZspxpAfRHzCL"
      }
    },
    {
      "cell_type": "code",
      "source": [
        "def sum(a, b):\n",
        "  return(a * b)"
      ],
      "metadata": {
        "id": "mCFOPnYWOgNo"
      },
      "execution_count": null,
      "outputs": []
    },
    {
      "cell_type": "code",
      "source": [
        "sum(45, 25)\n"
      ],
      "metadata": {
        "colab": {
          "base_uri": "https://localhost:8080/"
        },
        "id": "Lgu8CFPJO7sX",
        "outputId": "48d33cd9-2989-4d5c-d3f4-7729b6a930bb"
      },
      "execution_count": null,
      "outputs": [
        {
          "output_type": "execute_result",
          "data": {
            "text/plain": [
              "1125"
            ]
          },
          "metadata": {},
          "execution_count": 33
        }
      ]
    },
    {
      "cell_type": "markdown",
      "source": [
        "5. What are iterators in Python and how do they differ from iterables?\n",
        "   \n",
        "   Iterator is an object that allows traversal through a countable number of values. It is used to iterate over iterable objects like lists, tuples, sets, et\n",
        "\n",
        "   "
      ],
      "metadata": {
        "id": "HGSrFDU2Hy9F"
      }
    },
    {
      "cell_type": "code",
      "source": [
        "a = (4, 5, 6, 33, 40, 45)\n",
        "v = iter(a)\n",
        "print(next(v))"
      ],
      "metadata": {
        "id": "zxxtxJvVPqK5",
        "colab": {
          "base_uri": "https://localhost:8080/"
        },
        "outputId": "3b8a2bdc-a1d4-4fa4-86d7-7cdeed3f5cf6"
      },
      "execution_count": 57,
      "outputs": [
        {
          "output_type": "stream",
          "name": "stdout",
          "text": [
            "4\n"
          ]
        }
      ]
    },
    {
      "cell_type": "code",
      "source": [
        "next(v)"
      ],
      "metadata": {
        "colab": {
          "base_uri": "https://localhost:8080/"
        },
        "id": "IrACPFrXZN4x",
        "outputId": "9bb9d803-e67e-441c-9766-999795d74537"
      },
      "execution_count": 58,
      "outputs": [
        {
          "output_type": "execute_result",
          "data": {
            "text/plain": [
              "5"
            ]
          },
          "metadata": {},
          "execution_count": 58
        }
      ]
    },
    {
      "cell_type": "markdown",
      "source": [
        "6. Explain the concept of generators in Python and how they are defined.\n",
        "\n",
        "    \n",
        "\n"
      ],
      "metadata": {
        "id": "03_apMrxHy6c"
      }
    },
    {
      "cell_type": "code",
      "source": [
        "def square(a):\n",
        "  for i in range(a):\n",
        "    yield a ** 3"
      ],
      "metadata": {
        "id": "YV2te2JmRiLv"
      },
      "execution_count": null,
      "outputs": []
    },
    {
      "cell_type": "code",
      "source": [
        "square(5)"
      ],
      "metadata": {
        "colab": {
          "base_uri": "https://localhost:8080/"
        },
        "id": "hF8gLJfER-3t",
        "outputId": "e8e2a1f9-cac9-4579-94b7-b2efb86922ec"
      },
      "execution_count": null,
      "outputs": [
        {
          "output_type": "execute_result",
          "data": {
            "text/plain": [
              "<generator object square at 0x7900bf5f35e0>"
            ]
          },
          "metadata": {},
          "execution_count": 71
        }
      ]
    },
    {
      "cell_type": "code",
      "source": [
        "gen = square(5)\n",
        "gen\n"
      ],
      "metadata": {
        "colab": {
          "base_uri": "https://localhost:8080/"
        },
        "id": "MVnE88C0SHLZ",
        "outputId": "4ce27a8f-6c8d-4041-850e-f1309ae537b8"
      },
      "execution_count": null,
      "outputs": [
        {
          "output_type": "execute_result",
          "data": {
            "text/plain": [
              "<generator object square at 0x7900bf3d8790>"
            ]
          },
          "metadata": {},
          "execution_count": 72
        }
      ]
    },
    {
      "cell_type": "code",
      "source": [
        "next(gen)"
      ],
      "metadata": {
        "colab": {
          "base_uri": "https://localhost:8080/"
        },
        "id": "m0AZ9j6wS2dY",
        "outputId": "7432ea22-7d03-4532-82f4-20267c8ed737"
      },
      "execution_count": null,
      "outputs": [
        {
          "output_type": "execute_result",
          "data": {
            "text/plain": [
              "125"
            ]
          },
          "metadata": {},
          "execution_count": 73
        }
      ]
    },
    {
      "cell_type": "code",
      "source": [
        "next(gen)"
      ],
      "metadata": {
        "colab": {
          "base_uri": "https://localhost:8080/"
        },
        "id": "veroMCu-TZ4V",
        "outputId": "b6d78511-83c6-4cdc-e78b-740f81cecd0d"
      },
      "execution_count": null,
      "outputs": [
        {
          "output_type": "execute_result",
          "data": {
            "text/plain": [
              "125"
            ]
          },
          "metadata": {},
          "execution_count": 74
        }
      ]
    },
    {
      "cell_type": "markdown",
      "source": [
        "7. What are the advantages of using generators over regular functions?"
      ],
      "metadata": {
        "id": "PfD6KdyLHy3X"
      }
    },
    {
      "cell_type": "markdown",
      "source": [
        "Generators are a simple way to create iterators using functions and the yield keyword instead of returning values.\n",
        "\n"
      ],
      "metadata": {
        "id": "45-xpOYAk2Dl"
      }
    },
    {
      "cell_type": "code",
      "source": [
        "def cube_number(n):\n",
        "  for i in range(n):\n",
        "    yield i **3"
      ],
      "metadata": {
        "id": "8z-FyueslGaD"
      },
      "execution_count": null,
      "outputs": []
    },
    {
      "cell_type": "code",
      "source": [
        " gen = cube_number(5)"
      ],
      "metadata": {
        "id": "S7BPBKoumUB5"
      },
      "execution_count": null,
      "outputs": []
    },
    {
      "cell_type": "code",
      "source": [
        "next(gen)"
      ],
      "metadata": {
        "colab": {
          "base_uri": "https://localhost:8080/"
        },
        "id": "_HaShQIqmbcY",
        "outputId": "a8a543d7-283f-4621-aecf-3861a055a677"
      },
      "execution_count": null,
      "outputs": [
        {
          "output_type": "execute_result",
          "data": {
            "text/plain": [
              "0"
            ]
          },
          "metadata": {},
          "execution_count": 14
        }
      ]
    },
    {
      "cell_type": "code",
      "source": [
        "next(gen)"
      ],
      "metadata": {
        "colab": {
          "base_uri": "https://localhost:8080/"
        },
        "id": "uTzcxU8nmbY_",
        "outputId": "b78f6935-6344-4efb-d9d8-f38862566351"
      },
      "execution_count": null,
      "outputs": [
        {
          "output_type": "execute_result",
          "data": {
            "text/plain": [
              "1"
            ]
          },
          "metadata": {},
          "execution_count": 15
        }
      ]
    },
    {
      "cell_type": "code",
      "source": [
        "next(gen)"
      ],
      "metadata": {
        "colab": {
          "base_uri": "https://localhost:8080/"
        },
        "id": "Qsnq6B92nSrh",
        "outputId": "2b4d48ec-8c31-4dfd-f327-b0c441b5faec"
      },
      "execution_count": null,
      "outputs": [
        {
          "output_type": "execute_result",
          "data": {
            "text/plain": [
              "8"
            ]
          },
          "metadata": {},
          "execution_count": 16
        }
      ]
    },
    {
      "cell_type": "code",
      "source": [
        "next(gen)"
      ],
      "metadata": {
        "colab": {
          "base_uri": "https://localhost:8080/"
        },
        "id": "2dCET2RNnXKk",
        "outputId": "4f513a6d-c82a-45f1-d5f4-1a740c3b22e0"
      },
      "execution_count": null,
      "outputs": [
        {
          "output_type": "execute_result",
          "data": {
            "text/plain": [
              "27"
            ]
          },
          "metadata": {},
          "execution_count": 17
        }
      ]
    },
    {
      "cell_type": "code",
      "source": [],
      "metadata": {
        "id": "8HTUHfFkNG1l"
      },
      "execution_count": null,
      "outputs": []
    },
    {
      "cell_type": "markdown",
      "source": [
        "8. What is a lambda function in Python and when is it typically used?\n",
        "\n"
      ],
      "metadata": {
        "id": "a1S7wXx7lFUz"
      }
    },
    {
      "cell_type": "markdown",
      "source": [
        "A lambda function in Python is a concise way to create anonymous functions, also known as lambda."
      ],
      "metadata": {
        "id": "tAWoGQ9fni6E"
      }
    },
    {
      "cell_type": "code",
      "source": [
        "add = lambda s, c: s + c\n",
        "print(add(5, 6))"
      ],
      "metadata": {
        "colab": {
          "base_uri": "https://localhost:8080/"
        },
        "id": "FIJwghbwkTXC",
        "outputId": "4f0700cc-699e-492e-9e52-8af248303895"
      },
      "execution_count": null,
      "outputs": [
        {
          "output_type": "stream",
          "name": "stdout",
          "text": [
            "11\n"
          ]
        }
      ]
    },
    {
      "cell_type": "markdown",
      "source": [
        "9. Explain the purpose and usage of the `map()` function in Python."
      ],
      "metadata": {
        "id": "v-blZcQzHyl0"
      }
    },
    {
      "cell_type": "markdown",
      "source": [
        "map executes specific function for each item of an iterable.\n",
        "\n"
      ],
      "metadata": {
        "id": "YmeICrxDMFvD"
      }
    },
    {
      "cell_type": "code",
      "source": [
        "a = [3, 5, 6, 44]\n",
        "cube = list(map(lambda a: a**3, a))\n",
        "print(cube)"
      ],
      "metadata": {
        "id": "IMLzjQpKNTqq",
        "colab": {
          "base_uri": "https://localhost:8080/"
        },
        "outputId": "751ee8b1-3436-4302-d906-2f09896aa534"
      },
      "execution_count": 56,
      "outputs": [
        {
          "output_type": "stream",
          "name": "stdout",
          "text": [
            "[27, 125, 216, 85184]\n"
          ]
        }
      ]
    },
    {
      "cell_type": "markdown",
      "source": [
        "10. What is the difference between `map()`, `reduce()`, and `filter()` functions in Python?"
      ],
      "metadata": {
        "id": "iZf1GcYtNbjj"
      }
    },
    {
      "cell_type": "markdown",
      "source": [
        ">> The map function applies a given function to all items in an input iterable  and returns an iterator with the results.\n",
        "\n",
        ">>The filter function constructs an iterator from elements of an iterable for which a specified function returns True.\n",
        "\n",
        ">>The reduce function from the functools module applies a given function cumulatively to the items of a sequence.\n",
        "\n",
        "\n"
      ],
      "metadata": {
        "id": "IdvCLU3ZNhOM"
      }
    },
    {
      "cell_type": "markdown",
      "source": [
        "11. Using pen & Paper write the internal mechanism for sum operation using  reduce function on this given list:[47,11,42,13];\n"
      ],
      "metadata": {
        "id": "JnphaUX1OoAO"
      }
    },
    {
      "cell_type": "markdown",
      "source": [
        "![funhand.jpg](data:image/jpeg;base64,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)"
      ],
      "metadata": {
        "id": "W8rhk0q7Za7d"
      }
    },
    {
      "cell_type": "markdown",
      "source": [
        "PRACTICAL"
      ],
      "metadata": {
        "id": "tOM7OnRKOr1S"
      }
    },
    {
      "cell_type": "markdown",
      "source": [
        "1. Write a Python function that takes a list of numbers as input and returns the sum of all even numbers in\n",
        "the list.\n",
        "\n",
        "\n",
        "\n"
      ],
      "metadata": {
        "id": "tX9zNBRtO3lD"
      }
    },
    {
      "cell_type": "code",
      "source": [
        "def sum_even(list):\n",
        "    return sum(num for num in list if num % 2 == 0)"
      ],
      "metadata": {
        "id": "Lv6gByCJPaTS"
      },
      "execution_count": null,
      "outputs": []
    },
    {
      "cell_type": "code",
      "source": [
        "sum_even(list = range(2, 53))"
      ],
      "metadata": {
        "colab": {
          "base_uri": "https://localhost:8080/"
        },
        "id": "cEALgkACaquj",
        "outputId": "1a40c422-72c5-4cda-b3c5-d059823b7e13"
      },
      "execution_count": null,
      "outputs": [
        {
          "output_type": "execute_result",
          "data": {
            "text/plain": [
              "702"
            ]
          },
          "metadata": {},
          "execution_count": 61
        }
      ]
    },
    {
      "cell_type": "markdown",
      "source": [
        "2. Create a Python function that accepts a string and returns the reverse of that string."
      ],
      "metadata": {
        "id": "7x8jwsIRT3dH"
      }
    },
    {
      "cell_type": "code",
      "source": [
        "def reverse_world(d):\n",
        "  return d[::-1]"
      ],
      "metadata": {
        "id": "wAo7k7qdT60x"
      },
      "execution_count": null,
      "outputs": []
    },
    {
      "cell_type": "code",
      "source": [
        "reverse_world(d = ('fear'))"
      ],
      "metadata": {
        "colab": {
          "base_uri": "https://localhost:8080/",
          "height": 36
        },
        "id": "tMjingYBakVg",
        "outputId": "d0dc8443-2788-4158-a6aa-22a7e766c0ce"
      },
      "execution_count": null,
      "outputs": [
        {
          "output_type": "execute_result",
          "data": {
            "text/plain": [
              "'raef'"
            ],
            "application/vnd.google.colaboratory.intrinsic+json": {
              "type": "string"
            }
          },
          "metadata": {},
          "execution_count": 59
        }
      ]
    },
    {
      "cell_type": "markdown",
      "source": [
        "3. Implement a Python function that takes a list of integers and returns a new list containing the squares of\n",
        "each number."
      ],
      "metadata": {
        "id": "_0ROZRUOVPiQ"
      }
    },
    {
      "cell_type": "code",
      "source": [
        "def numb_list(a):\n",
        "  return[i **2 for i in a]\n",
        "numb_list(a = [2,3, 4, 5])\n"
      ],
      "metadata": {
        "colab": {
          "base_uri": "https://localhost:8080/"
        },
        "id": "KNRaduRlRr8T",
        "outputId": "6021fb0a-d2b7-4551-bb80-74cc6ed213b5"
      },
      "execution_count": null,
      "outputs": [
        {
          "output_type": "execute_result",
          "data": {
            "text/plain": [
              "[4, 9, 16, 25]"
            ]
          },
          "metadata": {},
          "execution_count": 56
        }
      ]
    },
    {
      "cell_type": "markdown",
      "source": [
        "4. Write a Python function that checks if a given number is prime or not from 1 to 200."
      ],
      "metadata": {
        "id": "jUGfrLt4V8aB"
      }
    },
    {
      "cell_type": "code",
      "source": [
        "def num_prime(n):\n",
        "  if 1>n<201:\n",
        "    return false\n",
        "  for i in range(2, int(n** 0.5)+1):\n",
        "    if n % i == 0:\n",
        "      return false\n",
        "  return true"
      ],
      "metadata": {
        "id": "YtdkNJUhR2Fq"
      },
      "execution_count": 1,
      "outputs": []
    },
    {
      "cell_type": "code",
      "source": [
        "def no_prime(a):\n",
        "  if 1>a>200:\n",
        "    return False\n",
        "\n",
        "  for i in range(2, int(a ** 0.5)+1):\n",
        "      if a % i == 0:\n",
        "        return False\n",
        "      else:\n",
        "        return True"
      ],
      "metadata": {
        "id": "JawOrplVQE5h"
      },
      "execution_count": 12,
      "outputs": []
    },
    {
      "cell_type": "code",
      "source": [
        "no_prime(22)"
      ],
      "metadata": {
        "colab": {
          "base_uri": "https://localhost:8080/"
        },
        "id": "5WzxVS4TQvxJ",
        "outputId": "394b8039-784e-430e-b314-3f6417ee7046"
      },
      "execution_count": 8,
      "outputs": [
        {
          "output_type": "execute_result",
          "data": {
            "text/plain": [
              "False"
            ]
          },
          "metadata": {},
          "execution_count": 8
        }
      ]
    },
    {
      "cell_type": "code",
      "source": [
        "no_prime(203)"
      ],
      "metadata": {
        "colab": {
          "base_uri": "https://localhost:8080/"
        },
        "id": "9zbLThjyQ_Jt",
        "outputId": "3f09511c-42c1-4a28-ecba-d6f9f58610c1"
      },
      "execution_count": 9,
      "outputs": [
        {
          "output_type": "execute_result",
          "data": {
            "text/plain": [
              "False"
            ]
          },
          "metadata": {},
          "execution_count": 9
        }
      ]
    },
    {
      "cell_type": "code",
      "source": [
        "no_prime(5)"
      ],
      "metadata": {
        "colab": {
          "base_uri": "https://localhost:8080/"
        },
        "id": "DkW7eL_wRBuX",
        "outputId": "376c3162-04c0-42e8-f7e6-be385599b98e"
      },
      "execution_count": 15,
      "outputs": [
        {
          "output_type": "execute_result",
          "data": {
            "text/plain": [
              "True"
            ]
          },
          "metadata": {},
          "execution_count": 15
        }
      ]
    },
    {
      "cell_type": "markdown",
      "source": [
        "5. Create an iterator class in Python that generates the Fibonacci sequence up to a specified number of\n",
        "terms."
      ],
      "metadata": {
        "id": "ujMpRKFcXu-z"
      }
    },
    {
      "cell_type": "code",
      "source": [],
      "metadata": {
        "id": "Rdh6_e2tXyaO"
      },
      "execution_count": null,
      "outputs": []
    },
    {
      "cell_type": "markdown",
      "source": [
        "6. Write a generator function in Python that yields the powers of 2 up to a given exponent."
      ],
      "metadata": {
        "id": "bGVdSo2-X57X"
      }
    },
    {
      "cell_type": "code",
      "source": [
        "def exponent_num(s):\n",
        "  for i in range(s +1):\n",
        "    yield 2 ** i"
      ],
      "metadata": {
        "id": "--Av23wRYU2J"
      },
      "execution_count": 17,
      "outputs": []
    },
    {
      "cell_type": "code",
      "source": [
        "exponent_num(3)"
      ],
      "metadata": {
        "colab": {
          "base_uri": "https://localhost:8080/"
        },
        "id": "lsPAV4DURPPs",
        "outputId": "23d64fa6-afb1-4c85-e56f-d51cf6e2b059"
      },
      "execution_count": 18,
      "outputs": [
        {
          "output_type": "execute_result",
          "data": {
            "text/plain": [
              "<generator object exponent_num at 0x7897e20db140>"
            ]
          },
          "metadata": {},
          "execution_count": 18
        }
      ]
    },
    {
      "cell_type": "code",
      "source": [
        "gen = exponent_num(3)"
      ],
      "metadata": {
        "id": "5kvHUMeMRgFn"
      },
      "execution_count": 19,
      "outputs": []
    },
    {
      "cell_type": "code",
      "source": [
        "next(gen)"
      ],
      "metadata": {
        "colab": {
          "base_uri": "https://localhost:8080/"
        },
        "id": "CjWfdeeeRgCB",
        "outputId": "ec0cdb11-e6b5-48e4-edf9-a81d1530467e"
      },
      "execution_count": 20,
      "outputs": [
        {
          "output_type": "execute_result",
          "data": {
            "text/plain": [
              "1"
            ]
          },
          "metadata": {},
          "execution_count": 20
        }
      ]
    },
    {
      "cell_type": "code",
      "source": [
        "next(gen)"
      ],
      "metadata": {
        "colab": {
          "base_uri": "https://localhost:8080/"
        },
        "id": "wj8cgmiHRoDz",
        "outputId": "be72d018-12c4-488a-bc72-bb97917eda80"
      },
      "execution_count": 21,
      "outputs": [
        {
          "output_type": "execute_result",
          "data": {
            "text/plain": [
              "2"
            ]
          },
          "metadata": {},
          "execution_count": 21
        }
      ]
    },
    {
      "cell_type": "code",
      "source": [
        "next(gen)"
      ],
      "metadata": {
        "colab": {
          "base_uri": "https://localhost:8080/"
        },
        "id": "sl2elZ3iRoAW",
        "outputId": "910754db-0ede-4bab-9d10-2ad40e83ce21"
      },
      "execution_count": 22,
      "outputs": [
        {
          "output_type": "execute_result",
          "data": {
            "text/plain": [
              "4"
            ]
          },
          "metadata": {},
          "execution_count": 22
        }
      ]
    },
    {
      "cell_type": "code",
      "source": [
        "next(gen)"
      ],
      "metadata": {
        "colab": {
          "base_uri": "https://localhost:8080/"
        },
        "id": "U_H-wjtmRu9R",
        "outputId": "f5812bee-83ac-4f05-ca08-50d205ec369b"
      },
      "execution_count": 23,
      "outputs": [
        {
          "output_type": "execute_result",
          "data": {
            "text/plain": [
              "8"
            ]
          },
          "metadata": {},
          "execution_count": 23
        }
      ]
    },
    {
      "cell_type": "code",
      "source": [
        "next(gen)"
      ],
      "metadata": {
        "colab": {
          "base_uri": "https://localhost:8080/",
          "height": 145
        },
        "id": "B6zVH8v5RyMc",
        "outputId": "06045e9d-fec8-491c-a08d-ea90cd00774d"
      },
      "execution_count": 24,
      "outputs": [
        {
          "output_type": "error",
          "ename": "StopIteration",
          "evalue": "",
          "traceback": [
            "\u001b[0;31m---------------------------------------------------------------------------\u001b[0m",
            "\u001b[0;31mStopIteration\u001b[0m                             Traceback (most recent call last)",
            "\u001b[0;32m<ipython-input-24-6e72e47198db>\u001b[0m in \u001b[0;36m<cell line: 0>\u001b[0;34m()\u001b[0m\n\u001b[0;32m----> 1\u001b[0;31m \u001b[0mnext\u001b[0m\u001b[0;34m(\u001b[0m\u001b[0mgen\u001b[0m\u001b[0;34m)\u001b[0m\u001b[0;34m\u001b[0m\u001b[0;34m\u001b[0m\u001b[0m\n\u001b[0m",
            "\u001b[0;31mStopIteration\u001b[0m: "
          ]
        }
      ]
    },
    {
      "cell_type": "markdown",
      "source": [
        "7. Implement a generator function that reads a file line by line and yields each line as a string."
      ],
      "metadata": {
        "id": "MbQqDzG_X81A"
      }
    },
    {
      "cell_type": "code",
      "source": [
        "def line_read(path_s):\n",
        "  with open(path_s, 'c') as file:\n",
        "    for line in life:\n",
        "      yield line.strip()"
      ],
      "metadata": {
        "id": "t3uqWY5hYVsI"
      },
      "execution_count": 27,
      "outputs": []
    },
    {
      "cell_type": "markdown",
      "source": [
        "8. Use a lambda function in Python to sort a list of tuples based on the second element of each tuple."
      ],
      "metadata": {
        "id": "V7TsZLi3YAnu"
      }
    },
    {
      "cell_type": "code",
      "source": [
        "s = [(3, 4), (6, 7), (44, 55), (3, 45), (40, 2)]\n",
        "sort_s = sorted(s, key = lambda s: s[1])"
      ],
      "metadata": {
        "id": "sA2EZB7AYWHr"
      },
      "execution_count": 30,
      "outputs": []
    },
    {
      "cell_type": "code",
      "source": [
        "sort_s"
      ],
      "metadata": {
        "colab": {
          "base_uri": "https://localhost:8080/"
        },
        "id": "bPe6ctH5UQah",
        "outputId": "c082d978-837a-440b-d77c-98ee18205922"
      },
      "execution_count": 31,
      "outputs": [
        {
          "output_type": "execute_result",
          "data": {
            "text/plain": [
              "[(40, 2), (3, 4), (6, 7), (3, 45), (44, 55)]"
            ]
          },
          "metadata": {},
          "execution_count": 31
        }
      ]
    },
    {
      "cell_type": "markdown",
      "source": [
        "9. Write a Python program that uses `map()` to convert a list of temperatures from Celsius to Fahrenheit."
      ],
      "metadata": {
        "id": "kNWe6vRPYG0y"
      }
    },
    {
      "cell_type": "code",
      "source": [
        "a = [33, 40, 25, 30, 48, 50]\n",
        "fahrenheit = list(map(lambda a:(9/5)*a+32, a))"
      ],
      "metadata": {
        "id": "IccC9fwhYXj8"
      },
      "execution_count": 33,
      "outputs": []
    },
    {
      "cell_type": "code",
      "source": [
        "fahrenheit"
      ],
      "metadata": {
        "colab": {
          "base_uri": "https://localhost:8080/"
        },
        "id": "Bk7MNVq_VV9t",
        "outputId": "87107d5e-ee1b-426b-9821-e0afee2b98c1"
      },
      "execution_count": 34,
      "outputs": [
        {
          "output_type": "execute_result",
          "data": {
            "text/plain": [
              "[91.4, 104.0, 77.0, 86.0, 118.4, 122.0]"
            ]
          },
          "metadata": {},
          "execution_count": 34
        }
      ]
    },
    {
      "cell_type": "markdown",
      "source": [
        "10. Create a Python program that uses `filter()` to remove all the vowels from a given string."
      ],
      "metadata": {
        "id": "Up4i2EmzYJ0e"
      }
    },
    {
      "cell_type": "code",
      "source": [
        "def remove_v(s):\n",
        "  return \"\".join (filter(lambda s: s.lower() not in 'aeiou', s))"
      ],
      "metadata": {
        "id": "_nTVEk0uYYAt"
      },
      "execution_count": 53,
      "outputs": []
    },
    {
      "cell_type": "code",
      "source": [
        "remove_v ('apple')\n"
      ],
      "metadata": {
        "colab": {
          "base_uri": "https://localhost:8080/",
          "height": 36
        },
        "id": "lZUV-nPaWsSP",
        "outputId": "793217ae-fa57-4f68-f148-23b45c2aa301"
      },
      "execution_count": 54,
      "outputs": [
        {
          "output_type": "execute_result",
          "data": {
            "text/plain": [
              "'ppl'"
            ],
            "application/vnd.google.colaboratory.intrinsic+json": {
              "type": "string"
            }
          },
          "metadata": {},
          "execution_count": 54
        }
      ]
    },
    {
      "cell_type": "markdown",
      "source": [
        "11) Imagine an accounting routine used in a book shop. It works on a list with sublists, which look like this\n",
        "\n",
        "\n",
        "\n",
        "Write a Python program, which returns a list with 2-tuples. Each tuple consists of the order number and the\n",
        "product of the price per item and the quantity. The product should be increased by 10,- € if the value of the\n",
        "order is smaller than 100,00 €."
      ],
      "metadata": {
        "id": "Ki3OzYWfYMZf"
      }
    },
    {
      "cell_type": "code",
      "source": [
        "orders =[ [34587, 'learning python, mark lutz', 4, 40.95],[98672, 'programmingpyhtin, mark lutz', 5, 56.80], [77226, ' head first python, paul barry', 3, 32.95], [88112, 'einfuhrung in pythonn2, bernd kelin', 3, 24.99]]\n",
        "result = list(map(lambda x: (x[0], x[2]*x[3] if x[2]*x[3] >= 1000 else x[2]*x[3]+ 10), orders))\n",
        "print(result)\n"
      ],
      "metadata": {
        "id": "7D5Z6wGFXJyl",
        "colab": {
          "base_uri": "https://localhost:8080/"
        },
        "outputId": "c1c37b0b-ec9e-4c2c-fee2-db5c2b362227"
      },
      "execution_count": 59,
      "outputs": [
        {
          "output_type": "stream",
          "name": "stdout",
          "text": [
            "[(34587, 173.8), (98672, 294.0), (77226, 108.85000000000001), (88112, 84.97)]\n"
          ]
        }
      ]
    },
    {
      "cell_type": "code",
      "source": [],
      "metadata": {
        "id": "4ia_Gx6JXb_t"
      },
      "execution_count": 59,
      "outputs": []
    }
  ]
}